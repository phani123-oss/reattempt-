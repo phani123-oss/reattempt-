{
 "cells": [
  {
   "cell_type": "code",
   "execution_count": 1,
   "id": "6a5421a5-91f9-47b1-9b76-747dc469f364",
   "metadata": {},
   "outputs": [
    {
     "name": "stdin",
     "output_type": "stream",
     "text": [
      "enter a number:  26\n"
     ]
    },
    {
     "name": "stdout",
     "output_type": "stream",
     "text": [
      "0 1 2 3 4 5 6 7 8 9 10 11 12 13 14 15 16 17 18 19 20 21 22 23 24 25 "
     ]
    }
   ],
   "source": [
    "#printing n fibanocci series\n",
    "#taking a number by user\n",
    "x=int(input(\"enter a number: \"))\n",
    "x1=0   \n",
    "for i in range(x1,x):\n",
    "    print(i,end=\" \")"
   ]
  },
  {
   "cell_type": "code",
   "execution_count": 22,
   "id": "81ef7899-cbd6-4a4b-965e-6def25cb0fa9",
   "metadata": {},
   "outputs": [
    {
     "name": "stdout",
     "output_type": "stream",
     "text": [
      "sum of given [1, 2, 3, 4, 5, 6]  numbers is:  21\n",
      "the average is:  3.5\n",
      "result is:  3\n"
     ]
    }
   ],
   "source": [
    "#average of list of numbers\n",
    "\n",
    "#creating list\n",
    "l=[1,2,3,4,5,6]\n",
    "#initialsing sum=0\n",
    "sum=0\n",
    "\n",
    "#loop from 1 to 7\n",
    "for num in range(1,7,1): \n",
    "    #step in for means how many numbers to skip in each count\n",
    "    sum = sum+num\n",
    "print(\"sum of given\", l, \" numbers is: \",sum)\n",
    "average= sum/len(l)\n",
    "print(\"the average is: \",average)\n",
    "\n",
    "#printing finall result without floating point\n",
    "x= sum//len(l)\n",
    "print(\"result is: \",x)\n"
   ]
  },
  {
   "cell_type": "code",
   "execution_count": 24,
   "id": "c3f6c426-5797-49cd-b95d-9c586e1d3e3c",
   "metadata": {},
   "outputs": [
    {
     "name": "stdout",
     "output_type": "stream",
     "text": [
      "1 2 3 4 5 6 7 8 9 10 "
     ]
    }
   ],
   "source": [
    "#printing 1 to 10 numbers\n",
    "\n",
    "for i in range(1,11,1):\n",
    "    print(i,end=\" \")"
   ]
  },
  {
   "cell_type": "code",
   "execution_count": 25,
   "id": "702cf350-6487-40bd-95be-82a3d8578bf6",
   "metadata": {},
   "outputs": [
    {
     "name": "stdout",
     "output_type": "stream",
     "text": [
      "sum of all numbers in a given list is:  15\n"
     ]
    }
   ],
   "source": [
    "#sum of all numbers in a list\n",
    "\n",
    "#taking list\n",
    "l=[1,2,3,4,5]\n",
    "sum=0\n",
    "\n",
    "#loop from 1 to 6\n",
    "for num in range(1,6,1):\n",
    "    sum=sum+num\n",
    "print(\"sum of all numbers in a given list is: \",sum)"
   ]
  },
  {
   "cell_type": "code",
   "execution_count": 46,
   "id": "3c0511d1-9cdb-4207-b107-17a4f8a5ae30",
   "metadata": {},
   "outputs": [
    {
     "name": "stdin",
     "output_type": "stream",
     "text": [
      "enter a number to find factorial:  5\n"
     ]
    },
    {
     "name": "stdout",
     "output_type": "stream",
     "text": [
      "factiorial of given number 5 is:  120\n"
     ]
    }
   ],
   "source": [
    "#factorial of a number\n",
    "\n",
    "x=int(input(\"enter a number to find factorial: \"))\n",
    "#initialsing num=1 to get factorial because multiplication identity is 1\n",
    "num=1\n",
    "\n",
    "#loop for 1 to num+1\n",
    "for i in range(1,x+1):\n",
    "    #below is the condition for product\n",
    "    num=i*num\n",
    "print(\"factiorial of given number\",x,\"is: \",num)"
   ]
  },
  {
   "cell_type": "code",
   "execution_count": 73,
   "id": "f8f26084-0c2a-44e0-9b62-70f8f246e9e4",
   "metadata": {},
   "outputs": [
    {
     "name": "stdin",
     "output_type": "stream",
     "text": [
      "enter a number:  5\n"
     ]
    },
    {
     "name": "stdout",
     "output_type": "stream",
     "text": [
      "5 x 1 = 5\n",
      "5 x 2 = 10\n",
      "5 x 3 = 15\n",
      "5 x 4 = 20\n",
      "5 x 5 = 25\n",
      "5 x 6 = 30\n",
      "5 x 7 = 35\n",
      "5 x 8 = 40\n",
      "5 x 9 = 45\n",
      "5 x 10 = 50\n"
     ]
    }
   ],
   "source": [
    "#multiplication of table \n",
    "\n",
    "x=int(input(\"enter a number: \"))\n",
    "\n",
    "#loop for i\n",
    "for i in range(1,11):\n",
    "    x*i==x*i\n",
    "    print(x,'x',i,'=',x*i)\n",
    "    "
   ]
  },
  {
   "cell_type": "code",
   "execution_count": 15,
   "id": "3c100f80-8f18-46c1-aa2d-a6be9d5e4272",
   "metadata": {},
   "outputs": [
    {
     "name": "stdout",
     "output_type": "stream",
     "text": [
      "no.of even numbers:  5\n",
      "no.of odd numbers:  5\n"
     ]
    }
   ],
   "source": [
    "#program that count no.of even an odd numbers\n",
    "\n",
    "numbers=[1,2,3,4,5,6,7,8,9,10]\n",
    "#initialising counters\n",
    "even_count=0\n",
    "odd_count=0\n",
    "#using for to count even and odd\n",
    "for num in numbers:\n",
    "    if num%2==0:\n",
    "        even_count+=1\n",
    "    else:\n",
    "        odd_count+=1\n",
    "print(\"no.of even numbers: \",even_count)\n",
    "print(\"no.of odd numbers: \",odd_count)"
   ]
  },
  {
   "cell_type": "code",
   "execution_count": 1,
   "id": "f6fbd1ca-99b8-48b8-b726-2871e993087e",
   "metadata": {},
   "outputs": [
    {
     "name": "stdout",
     "output_type": "stream",
     "text": [
      "squares of numbers are:  25\n"
     ]
    }
   ],
   "source": [
    "#Develop a program that prints the squares of numbers from 1 to 5 using a `for` loop.\n",
    "\n",
    "list(range(1,6))\n",
    "s=1\n",
    "#for loop 1 to 6 \n",
    "for i in range(1,6):\n",
    "    #condition for square of numbers\n",
    "    s=i*i\n",
    "print(\"squares of numbers are: \",s)"
   ]
  },
  {
   "cell_type": "code",
   "execution_count": 10,
   "id": "850787b5-afa9-4dfc-b756-97961a9ecc6f",
   "metadata": {},
   "outputs": [
    {
     "name": "stdin",
     "output_type": "stream",
     "text": [
      "enter string:  phani\n"
     ]
    },
    {
     "name": "stdout",
     "output_type": "stream",
     "text": [
      "i n a h p "
     ]
    }
   ],
   "source": [
    "#3. Write a program to print the characters of a string in reverse order using a `for` loop.\n",
    "\n",
    "original_string=input(\"enter string: \")\n",
    "#printing in reverseorder\n",
    "for char in reversed(original_string):\n",
    "    print(char,end=\" \")"
   ]
  },
  {
   "cell_type": "code",
   "execution_count": 12,
   "id": "4606e298-de77-4645-a84b-fa53257fdc95",
   "metadata": {},
   "outputs": [
    {
     "name": "stdin",
     "output_type": "stream",
     "text": [
      "enter a string pwskills\n"
     ]
    },
    {
     "name": "stdout",
     "output_type": "stream",
     "text": [
      "length of string is :  8\n"
     ]
    }
   ],
   "source": [
    "#8. Create a program to find the length of a string without using the `len()` function.\n",
    "\n",
    "original_string=input(\"enter a string\")\n",
    "#finding length without using len function\n",
    "#initialsing length=0\n",
    "length=0\n",
    "for char in original_string:\n",
    "    length+=1\n",
    "print(\"length of string is : \",length)"
   ]
  },
  {
   "cell_type": "code",
   "execution_count": 21,
   "id": "4b9d2af8-fb61-479f-bf13-0cb6ea739853",
   "metadata": {},
   "outputs": [
    {
     "name": "stdout",
     "output_type": "stream",
     "text": [
      "list has no duplicates\n"
     ]
    }
   ],
   "source": [
    "#program to check a given list contains ny duplicates\n",
    "\n",
    "#taking list\n",
    "l=[1,2,3,4,5,6,7,8,9,10,1]\n",
    "#initialising flag variable\n",
    "has_duplicate=False\n",
    "for i in range(len(l)):\n",
    "    for j in range(i+1,len(l)):\n",
    "        if l[i]==l[j]:\n",
    "            has_duplicate=True\n",
    "        break\n",
    "#printing result\n",
    "if has_duplicate:\n",
    "    print(\"list has duplicates\")\n",
    "else:\n",
    "    print(\"list has no duplicates\")"
   ]
  },
  {
   "cell_type": "code",
   "execution_count": 36,
   "id": "22a67687-0469-4654-8e1e-02c077232af1",
   "metadata": {},
   "outputs": [
    {
     "name": "stdout",
     "output_type": "stream",
     "text": [
      "prime in the range 1 to 100\n"
     ]
    }
   ],
   "source": [
    "#program to print prime numbers in a given range\n",
    "\n",
    "def is_prime(num):\n",
    "    if num<=1:\n",
    "        return False\n",
    "    for i in range(2,int(num**0.5)+1):\n",
    "        num%i==0\n",
    "        return False\n",
    "        return True\n",
    "        \n",
    "#given range\n",
    "\n",
    "start=1\n",
    "end=100\n",
    "\n",
    "#printing numbers\n",
    "\n",
    "print(\"prime in the range\",start, \"to\",end)\n",
    "for number in range(start,end+1):\n",
    "    if is_prime(number):\n",
    "        print(number)"
   ]
  },
  {
   "cell_type": "code",
   "execution_count": 44,
   "id": "d4a7b6f5-e5fb-4e4d-9645-2d97713d0cfe",
   "metadata": {},
   "outputs": [
    {
     "name": "stdin",
     "output_type": "stream",
     "text": [
      "enter string phani\n"
     ]
    },
    {
     "name": "stdout",
     "output_type": "stream",
     "text": [
      "number of vowels:  2\n"
     ]
    }
   ],
   "source": [
    "#13. Develop a program that counts the number of vowels in a string using a `for` loop.\n",
    "\n",
    "def count_vowels(string):\n",
    "    count=0\n",
    "    vowels=['a','e','i','o','u']\n",
    "    \n",
    "    for char in string:\n",
    "        if char.lower() in vowels:\n",
    "            count+=1\n",
    "    return count\n",
    "#taking string\n",
    "string=input(\"enter string\")\n",
    "num_vowels=count_vowels(string)\n",
    "print(\"number of vowels: \",num_vowels)"
   ]
  },
  {
   "cell_type": "code",
   "execution_count": null,
   "id": "5e75801a-9970-46fe-b7cf-2308520761e2",
   "metadata": {},
   "outputs": [
    {
     "ename": "SyntaxError",
     "evalue": "invalid syntax (1691540086.py, line 15)",
     "output_type": "error",
     "traceback": [
      "\u001b[0;36m  Cell \u001b[0;32mIn[1], line 15\u001b[0;36m\u001b[0m\n\u001b[0;31m    new_list=remove element(lst,element_to_remove)\u001b[0m\n\u001b[0m                    ^\u001b[0m\n\u001b[0;31mSyntaxError\u001b[0m\u001b[0;31m:\u001b[0m invalid syntax\n"
     ]
    }
   ],
   "source": [
    "#15. Create a program that removes all occurrences of a specific element from a list using a `for` loop..\n",
    "\n",
    "\n",
    "def remove_element(lst,element):\n",
    "    new_list=[ ]\n",
    "    \n",
    "    for item in lst:\n",
    "        if item!=element:\n",
    "            new_list.append(item)\n",
    "    return new_list\n",
    "#taking a list\n",
    "lst=[1,2,3,4,5,6,3,7,8,3]\n",
    "element_to_remove=3\n",
    "\n",
    "new_list=remove element(lst,element_to_remove)\n",
    "print(\"original list :\" ,lst)\n",
    "print(\"after removing: \",new-list)"
   ]
  },
  {
   "cell_type": "code",
   "execution_count": 26,
   "id": "8cf17829-8830-4ddd-b120-b47743f9e6be",
   "metadata": {},
   "outputs": [
    {
     "name": "stdout",
     "output_type": "stream",
     "text": [
      "f_t = 93 c\n",
      "f_t = 1 c\n",
      "f_t = 4 c\n",
      "f_t = 26 c\n",
      "f_t = 43 c\n"
     ]
    }
   ],
   "source": [
    "#16.Write a program that converts a list of Fahrenheit temperatures to Celsius using a `for` loop.\n",
    "\n",
    "#taking temp list\n",
    "\n",
    "fahrenheit_temperature=[201,35,40,80,110]\n",
    "\n",
    "\n",
    "for fahrenheit  in fahrenheit_temperature :\n",
    "    celsius=int((fahrenheit-32)*(5/9))\n",
    "    print(\"f_t\",\"=\",celsius,\"c\")"
   ]
  },
  {
   "cell_type": "code",
   "execution_count": 29,
   "id": "4853f8a1-6126-44c7-9c57-a1ed4c5b1477",
   "metadata": {},
   "outputs": [
    {
     "name": "stdout",
     "output_type": "stream",
     "text": [
      "1 4 5 6 "
     ]
    }
   ],
   "source": [
    "#Create a program to print the common elements from two lists using a `for` loop.\n",
    "\n",
    "l1=[1,2,3,4,5,6,7,8]\n",
    "l2=[1,4,9,6,11,5,12]\n",
    "\n",
    "#itterate element in l1\n",
    "for i in l1:\n",
    "#checking if the same element in l2    \n",
    "    if i in l2:\n",
    "        print(i,end=\" \")"
   ]
  },
  {
   "cell_type": "code",
   "execution_count": 30,
   "id": "e9eed70f-dfc4-4bfb-9d4f-3dfbc0c900d9",
   "metadata": {},
   "outputs": [
    {
     "name": "stdout",
     "output_type": "stream",
     "text": [
      "* \n",
      "* * \n",
      "* * * \n",
      "* * * * \n",
      "* * * * * \n"
     ]
    }
   ],
   "source": [
    "#Develop a program that prints the pattern of right-angled triangles using a `for` loop. Use ‘*’ to draw\n",
    "\n",
    "for i in range(5):\n",
    "    for j in range(i+1):\n",
    "        print(\"*\",end=' ')\n",
    "    print()    "
   ]
  },
  {
   "cell_type": "code",
   "execution_count": 81,
   "id": "1dcec64f-70dc-4cdd-aeaf-c92e6c5da635",
   "metadata": {},
   "outputs": [
    {
     "name": "stdout",
     "output_type": "stream",
     "text": [
      "gcd of 24 and 12 is <function gcd at 0x7faa4b5cc670>\n"
     ]
    }
   ],
   "source": [
    "#20. Write a program to find the greatest common divisor (GCD) of two numbers using a `for` loop.\n",
    "\n",
    "def gcd(a,b):\n",
    "    \n",
    "    #finding small number\n",
    "    if a>b:\n",
    "            smaller=b\n",
    "    else:     \n",
    "            smaller=a\n",
    "            \n",
    "#iterate loop 1 to smaller number\n",
    "    for i in range(1,smaller+1):\n",
    "        \n",
    "        \n",
    "#checking i is a divisor both given numbers\n",
    "        if a%i==0 and b%i==0:\n",
    "        \n",
    "            gcd\n",
    "        return gcd\n",
    "\n",
    "#printing result\n",
    "\n",
    "num1 = 24\n",
    "num2 = 36\n",
    "result = gcd(num1, num2)\n",
    "print(\"gcd of\", a ,\"and\" ,b, \"is\" ,result)"
   ]
  },
  {
   "cell_type": "code",
   "execution_count": 5,
   "id": "9ea19f97-bc7f-4a36-9a98-0d7412459109",
   "metadata": {},
   "outputs": [
    {
     "name": "stdout",
     "output_type": "stream",
     "text": [
      "[6, 12, 15]\n"
     ]
    }
   ],
   "source": [
    "#21. Create a program that calculates the sum of the digits of numbers in a list using a list comprehension.\n",
    "\n",
    "def sum_of_digits(numbers):\n",
    "    return[sum(int(digit) for digit in str(num)) for num in numbers]\n",
    "\n",
    "#calculating sum of digits\n",
    "numbers=[123,345,456]\n",
    "result=sum_of_digits(numbers)\n",
    "print(result)\n"
   ]
  },
  {
   "cell_type": "code",
   "execution_count": 6,
   "id": "afca3bdb-63da-4f5e-9231-dc0e11aa34ac",
   "metadata": {},
   "outputs": [
    {
     "name": "stdout",
     "output_type": "stream",
     "text": [
      "[2, 2, 2, 3]\n"
     ]
    }
   ],
   "source": [
    "#22. Write a program to find the prime factors of a given number using a `for` loop and list comprehension.\n",
    "\n",
    "def prime_factors(n):\n",
    "    factors = []\n",
    "    #loop for i \n",
    "    for i in range(2, n+1):\n",
    "        #\n",
    "        while n % i == 0:\n",
    "            factors.append(i)\n",
    "            n = n / i\n",
    "    return factors\n",
    "\n",
    "# Example usage\n",
    "number = 24\n",
    "result = prime_factors(number)\n",
    "print(result)  \n"
   ]
  },
  {
   "cell_type": "code",
   "execution_count": 18,
   "id": "81a1f950-94d4-4357-96f9-9d7b6492caf8",
   "metadata": {},
   "outputs": [
    {
     "name": "stdout",
     "output_type": "stream",
     "text": [
      "[1, 2, 3, 4, 6, 7]\n"
     ]
    }
   ],
   "source": [
    "'''23. Develop a program that extracts unique elements from a list and stores them in a new list using a list\n",
    "comprehension.'''\n",
    "\n",
    "def extract_unique_elements(input_list):\n",
    "#creating list comprehension\n",
    "    unique_list=[x for i,x in enumerate(input_list) if x not in input_list[:i]]\n",
    "    return unique_list\n",
    "#example to use\n",
    "#taking input_list\n",
    "input_list=[1,2,3,4,1,3,6,7,2,3,4]\n",
    "unique_list = extract_unique_elements(input_list)\n",
    "print(unique_list)\n"
   ]
  },
  {
   "cell_type": "code",
   "execution_count": 23,
   "id": "4db2eac8-560a-4418-aec2-b1cec2cbc95d",
   "metadata": {},
   "outputs": [
    {
     "name": "stdout",
     "output_type": "stream",
     "text": [
      "[1, 2, 1, 2, 3, 1, 2, 3, 4]\n"
     ]
    }
   ],
   "source": [
    "#Write a program to flatten a nested list using list comprehension.\n",
    "\n",
    "my_list=[[1,2],[1,2,3],[1,2,3,4]]\n",
    "flatten_list=[num for my_list in my_list for num in my_list]\n",
    "print(flatten_list)"
   ]
  },
  {
   "cell_type": "code",
   "execution_count": 6,
   "id": "1d954589-b0d1-4369-a2db-c8595c42b9f6",
   "metadata": {},
   "outputs": [
    {
     "name": "stdout",
     "output_type": "stream",
     "text": [
      "my_list is:  [123, 323, 234, 789, 456]\n",
      "odd sum is:  34\n",
      "even sum is:  28\n"
     ]
    }
   ],
   "source": [
    "#Develop a program that computes the sum of even and odd numbers in a list separately using list comprehension\n",
    "\n",
    "#initialising list\n",
    "my_list=[123,323,234,789,456]\n",
    "print(\"my_list is: \",my_list)\n",
    "odd_sum=0\n",
    "even_sum=0\n",
    "#initialised odd and even equals to 0 to get sum of all\n",
    "#using sum for adding \n",
    "for sub in my_list:\n",
    "    #using list comprehension\n",
    "    odd_sum+=sum([int(ele) for ele in str(sub) if int(ele)%2==1])\n",
    "    even_sum+=sum([int(ele) for ele in str(sub) if int(ele)%2==0])\n",
    "                   \n",
    "print(\"odd sum is: \",odd_sum)\n",
    "print(\"even sum is: \",even_sum)\n",
    "                  "
   ]
  },
  {
   "cell_type": "code",
   "execution_count": 9,
   "id": "7af075fd-473e-4d9b-90a3-0efd6cf3cbed",
   "metadata": {},
   "outputs": [
    {
     "name": "stdout",
     "output_type": "stream",
     "text": [
      "odd numbers are:  1\n",
      "odd numbers are:  3\n",
      "odd numbers are:  5\n",
      "odd numbers are:  7\n",
      "odd numbers are:  9\n"
     ]
    }
   ],
   "source": [
    "#Create a program that generates a list of squares of odd numbers between 1 and 10 using list comprehension\n",
    "\n",
    "x=list(range(1,11))\n",
    "\n",
    "#initialising odd sum =0\n",
    "odd_sum=0\n",
    "#loop for i \n",
    "for i in x:\n",
    "    #checking condition for odd\n",
    "    if i%2==1:\n",
    "         print(\"odd numbers are: \",i)"
   ]
  },
  {
   "cell_type": "code",
   "execution_count": 16,
   "id": "ce510363-e92c-41e9-a4c3-fe386aa719d8",
   "metadata": {},
   "outputs": [
    {
     "name": "stdout",
     "output_type": "stream",
     "text": [
      "squares of odd numbers are:  [1, 9, 25, 49, 81]\n"
     ]
    }
   ],
   "source": [
    "#Create a program that generates a list of squares of odd numbers between 1 and 10 using list comprehension\n",
    "#initialising list by using range function\n",
    "z=list(range(1,11))\n",
    "#creating new_list using list comprehension\n",
    "new_list=[i*i for i in z if i%2==1 ]\n",
    "print(\"squares of odd numbers are: \",new_list)"
   ]
  },
  {
   "cell_type": "code",
   "execution_count": 25,
   "id": "6d22d490-316f-4622-9786-edf38704606a",
   "metadata": {},
   "outputs": [
    {
     "name": "stdin",
     "output_type": "stream",
     "text": [
      "enter any string:  hello how are you\n"
     ]
    },
    {
     "name": "stdout",
     "output_type": "stream",
     "text": [
      "['e', 'o', 'o', 'a', 'e', 'o', 'u']\n"
     ]
    }
   ],
   "source": [
    "#29. Develop a program that extracts the vowels from a string and stores them in a list using list comprehension.\n",
    "\n",
    "x=input(\"enter any string: \")\n",
    "#initialisng vowels list\n",
    "l=['a','e','i','o','u']\n",
    "new_vowels_list=[char for char in x if char.lower() in l ]\n",
    "print(new_vowels_list)\n"
   ]
  },
  {
   "cell_type": "code",
   "execution_count": 40,
   "id": "b6fe15fc-2549-4107-817d-55f7654ebcdc",
   "metadata": {},
   "outputs": [
    {
     "name": "stdout",
     "output_type": "stream",
     "text": [
      "['1 2 3', '4 6', '6 7']\n"
     ]
    }
   ],
   "source": [
    "#Create a program that removes all non-numeric characters from a list of strings using list comprehension\n",
    "#example string\n",
    "strings=['123abc','46ghg','67hjj']\n",
    "#using list comprehension\n",
    "numeric_character=[' '.join(char for char in string if char.isdigit()) for string in strings ]\n",
    "print(numeric_character)\n"
   ]
  },
  {
   "cell_type": "code",
   "execution_count": null,
   "id": "e37f80ce-5b9f-458b-964d-55cd43a8ac04",
   "metadata": {},
   "outputs": [],
   "source": []
  }
 ],
 "metadata": {
  "kernelspec": {
   "display_name": "Python 3 (ipykernel)",
   "language": "python",
   "name": "python3"
  },
  "language_info": {
   "codemirror_mode": {
    "name": "ipython",
    "version": 3
   },
   "file_extension": ".py",
   "mimetype": "text/x-python",
   "name": "python",
   "nbconvert_exporter": "python",
   "pygments_lexer": "ipython3",
   "version": "3.10.8"
  }
 },
 "nbformat": 4,
 "nbformat_minor": 5
}
